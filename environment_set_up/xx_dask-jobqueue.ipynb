{
 "cells": [
  {
   "cell_type": "markdown",
   "metadata": {},
   "source": [
    "# DASK jobqueue\n",
    "\n",
    "Details for connecting the dask job queue to the SLURM scheduler on `tallgrass`."
   ]
  },
  {
   "cell_type": "code",
   "execution_count": null,
   "metadata": {},
   "outputs": [],
   "source": [
    "import os\n",
    "from dask_jobqueue import SLURMCluster\n",
    "\n",
    "project = os.environ.get('SLURM_JOB_ACCOUNT', \"Unknown\")\n",
    "cluster = SLURMCluster(\n",
    "    processes=1,\n",
    "    cores=1,\n",
    "    memory='10GB',\n",
    "    interface='ib0',\n",
    "    project=project,\n",
    "    walltime='01:00:00',\n",
    "    job_extra={'hint': 'multithread', 'exclusive': 'user'}\n",
    ")\n",
    "cluster.scale(10)\n",
    "\n",
    "from dask.distributed import Client\n",
    "client = Client(cluster)\n"
   ]
  },
  {
   "cell_type": "markdown",
   "metadata": {},
   "source": [
    "\n",
    "\n",
    "The `scale()` method submits a batch of jobs to the SLURM job queue system.  \n",
    "Depending on how busy the job queue is, it can take a few minutes for workers \n",
    "to join your cluster. You can usually check the status of your queued jobs \n",
    "using a command line utility like `squeue -u $USER`. You can also check the \n",
    "status of your cluster from inside your Jupyter session:\n"
   ]
  },
  {
   "cell_type": "code",
   "execution_count": null,
   "metadata": {},
   "outputs": [],
   "source": [
    "print(client)"
   ]
  },
  {
   "cell_type": "markdown",
   "metadata": {},
   "source": [
    "\n",
    "For more examples of how to use\n",
    "[dask-jobqueue](http://dask-jobqueue.readthedocs.io), refer to the\n",
    "[package documentation](http://dask-jobqueue.readthedocs.io).\n",
    "\n",
    "\n",
    "## Further Reading\n",
    "\n",
    " -   [Deploying Dask on HPC](http://dask.pydata.org/en/latest/setup/hpc.html)\n",
    " -   [Configuring and Deploying Jupyter Servers](http://jupyter-notebook.readthedocs.io/en/stable/index.html)\n",
    "\n"
   ]
  }
 ],
 "metadata": {
  "kernelspec": {
   "display_name": "Python 3.10.6 ('hytest')",
   "language": "python",
   "name": "python3"
  },
  "language_info": {
   "codemirror_mode": {
    "name": "ipython",
    "version": 3
   },
   "file_extension": ".py",
   "mimetype": "text/x-python",
   "name": "python",
   "nbconvert_exporter": "python",
   "pygments_lexer": "ipython3",
   "version": "3.10.6"
  },
  "vscode": {
   "interpreter": {
    "hash": "4100cc85ffefb381c538d28dd18cb927e5a99f05bbed6aaad5313d7bb1c2079e"
   }
  }
 },
 "nbformat": 4,
 "nbformat_minor": 2
}
