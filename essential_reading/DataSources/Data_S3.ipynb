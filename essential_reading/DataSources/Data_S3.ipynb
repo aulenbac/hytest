{
 "cells": [
  {
   "cell_type": "markdown",
   "metadata": {},
   "source": [
    "# Data / Cloud Storage"
   ]
  },
  {
   "cell_type": "markdown",
   "metadata": {},
   "source": [
    "One of the main storage locations for HyTest data is in '_The Cloud_'. This is sometimes referred to as **'Object Storage'**.  The data is kept in datacenters, which makes it easily available to network-connected devices. The main advantage of doing this is that if your compute engine is also in that same datacenter (as is the case for many JupyterHub nodes), the data doesn't have to go very far to get to the compute power.  This brings the computation to the data, rather than shipping large datasets across the internet to get to the compute engine. \n",
    "\n",
    "[S3](https://aws.amazon.com/s3/) is Amazon's implementation of object storage, which pairs with the Amazon (AWS) nodes on which the Jupter Hub runs. What follows is a brief demo of how S3 data is accessed (both read and write), and some pitfalls to watch out for.\n",
    "\n",
    "The easiest way to access S3 data from within a Python program is via \n",
    "[fsspec](https://filesystem-spec.readthedocs.io/en/latest/) -- a layer of \n",
    "abstraction that lets us interact with arbitrary storage mechanisms as if \n",
    "they are conventional file systems. It makes S3 'look' like a conventional file system."
   ]
  },
  {
   "cell_type": "markdown",
   "metadata": {},
   "source": [
    "## Access / Profile\n",
    "The permissions scheme for S3 allows for anonymous/global read access, as well as secured access via specific credentials.  \n",
    "\n",
    "We'll look at generic workflows using an anonymous-access bucket, then finish off with some private/credentialed operations."
   ]
  },
  {
   "cell_type": "markdown",
   "metadata": {},
   "source": [
    "## Anonymous Reads\n",
    "\n",
    "A lot of data is available for global read, which does not require credentials or a profile. In this case, just set `anon=True` when plumbing the `fsspec` object. "
   ]
  },
  {
   "cell_type": "code",
   "execution_count": null,
   "metadata": {},
   "outputs": [],
   "source": [
    "import fsspec\n",
    "# Create a reference to a globally-readable space\n",
    "fs = fsspec.filesystem(\n",
    "    's3', \n",
    "    anon=True   # Does not require credentials\n",
    "    )\n",
    "# 'ls' == list ; list files in a virtual folder\n",
    "fs.ls('s3://noaa-nwm-retrospective-2-1-zarr-pds/')"
   ]
  },
  {
   "cell_type": "code",
   "execution_count": null,
   "metadata": {},
   "outputs": [],
   "source": [
    "# Other filesystem-like operations: \n",
    "\n",
    "# glob = wildcard match:\n",
    "fs.glob(\"s3://noaa-nwm-retrospective-2-1-zarr-pds/*.zarr\")"
   ]
  },
  {
   "cell_type": "code",
   "execution_count": null,
   "metadata": {},
   "outputs": [],
   "source": [
    "# Get metadata about a single file\n",
    "fs.info('noaa-nwm-retrospective-2-1-zarr-pds/index.html')"
   ]
  },
  {
   "cell_type": "markdown",
   "metadata": {},
   "source": [
    "Low-level operations with `fsspec` are designed to behave similarly to the 'native'\n",
    "operations in Python. "
   ]
  },
  {
   "cell_type": "code",
   "execution_count": null,
   "metadata": {},
   "outputs": [],
   "source": [
    "# Use open() to get something that behaves like a file handle for low-level Python read/write operations:\n",
    "with fs.open('noaa-nwm-retrospective-2-1-zarr-pds/index.html') as f:\n",
    "    # print first 5 lines...\n",
    "    for i in range(0,5):\n",
    "        line = f.readline()\n",
    "        print(line)\n"
   ]
  },
  {
   "cell_type": "markdown",
   "metadata": {},
   "source": [
    "However -- most of the time, we don't need such low level access. A more general, and useful, mechanism is\n",
    "to '_map_' an S3 object to a _virtual file_ using `get_mapper()`. That _map_ object can then be treated as\n",
    "if it is a local file -- the mapping mechanism handles all of the translation to interact with S3. "
   ]
  },
  {
   "cell_type": "code",
   "execution_count": null,
   "metadata": {},
   "outputs": [],
   "source": [
    "import zarr\n",
    "\n",
    "m = fs.get_mapper('s3://noaa-nwm-retrospective-2-1-zarr-pds/chrtout.zarr')\n",
    "# 'm' is now a stand-in for functions that take a file as argument. \n",
    "g = zarr.convenience.open_consolidated(m) # read zarr metadata for named file.\n",
    "print(g.tree())"
   ]
  },
  {
   "cell_type": "markdown",
   "metadata": {},
   "source": [
    ":::{warning}\n",
    "\n",
    "We are deliberately demonstrating using commands that read **only** the zarr metadata from the\n",
    "object storage -- not the full data set.  The above example is a very, _very_, **very** large \n",
    "dataset, which you don't want to load over the network to your desktop.  Execute full data read \n",
    "operations only if this notebook is being hosted and run out of the same AWS center where the \n",
    "data lives. \n",
    "\n",
    ":::"
   ]
  },
  {
   "cell_type": "markdown",
   "metadata": {},
   "source": [
    ":::{sidebar}\n",
    "\n",
    "The good news about some of the larger science-oriented libraries (xarray, dask, pandas, zarr, etc), is that \n",
    "they can automatically handle the `fsspec` operations for you **IF YOUR ACCESS IS ANONYMOUS**.  This is a convenience,\n",
    "but is a special case for read-only data where `anon=True` and `requestor_pays=False`. \n",
    "\n",
    "Note that this is a feature of \n",
    "[specific libraries](https://filesystem-spec.readthedocs.io/en/latest/#who-uses-fsspec), and doesn't work everywhere. \n",
    "\n",
    "Because it isn't universally available, and only applies to anonymous reads, examples in HyTEST will\n",
    "always explicitly plumb `fsspec` 'longhand' using `get_mapper()`. You may see example code elsewhere\n",
    "that takes the shortcut if available. \n",
    "\n",
    ":::\n"
   ]
  },
  {
   "cell_type": "markdown",
   "metadata": {},
   "source": [
    "## Credentialed Access\n",
    "For most data storage within the HyTEST workflows, access will not be anonymous. Permissions are set\n",
    " by the owners of that data, using credentials assigned to an AWS 'profile'. \n",
    "\n",
    "Profile credentials are usually stored outside of the Python program (typically in a master file in \n",
    "your ``HOME` folder on the compute/jupyter server).  You need to have this set up beforehand, and is \n",
    "usually achieved by copying specific credential files into the right spot. \n",
    "\n",
    "From the shell / command-line, it might look something like this:\n",
    "```text\n",
    "cp -R /shared/users/lib/.aws $HOME/.aws\n",
    "```\n",
    "The `.aws` folder and files will be provided by the bucket owner.  Within that `.aws` folder is \n",
    "a `config` file which includes lines something like this:\n",
    "\n",
    "```text\n",
    "[nhgf-development]\n",
    "aws_access_key_id = XXXXXXXXXXXXXXXX\n",
    "aws_secret_access_key = <magic key>\n",
    "\n",
    "[default]\n",
    "aws_access_key_id = XXXXXXXXXXXXXXXX\n",
    "aws_secret_access_key = <magic key>\n",
    "```\n",
    "\n",
    "The names in brackes are '_profiles_', which describe the access pattern for S3 buckets."
   ]
  },
  {
   "cell_type": "markdown",
   "metadata": {},
   "source": [
    "```python\n",
    "import os\n",
    "# Set profile via environment variable -- this ensures that all AWS-capable \n",
    "# functions can get the right profile without it being explicitly specified every time.\n",
    "os.environ['AWS_PROFILE'] = 'nhgf-development'\n",
    "\n",
    "fs = fsspec.filesystem(\n",
    "    's3',                    # Use S3 protocol\n",
    "    anon=False,              # Force fsspec to find credentials\n",
    "    skip_instance_cache=True # Insist that we don't cache locally ; important for fs that can change\n",
    ")\n",
    "# the 'fs' object now gives us filesystem-like methods to use, like 'ls'\n",
    "fs.ls('s3://nhgf-development/workspace/')\n",
    "```"
   ]
  },
  {
   "cell_type": "markdown",
   "metadata": {},
   "source": [
    "With greater permissions, you may be able to do more destructive activities (overwriting, removing, etc). \n",
    "Examples:\n",
    "* `mkdir` -- makes a new directory / folder\n",
    "* `mv` -- moves/renames a file or folder\n",
    "* `rm` -- removes a file or folder\n",
    "\n",
    "See the [API documentation](https://filesystem-spec.readthedocs.io/en/latest/api.html) for the full details of \n",
    "available operations."
   ]
  }
 ],
 "metadata": {
  "kernelspec": {
   "display_name": "Python 3 (ipykernel)",
   "language": "python",
   "name": "python3"
  },
  "language_info": {
   "codemirror_mode": {
    "name": "ipython",
    "version": 3
   },
   "file_extension": ".py",
   "mimetype": "text/x-python",
   "name": "python",
   "nbconvert_exporter": "python",
   "pygments_lexer": "ipython3",
   "version": "3.10.5"
  },
  "vscode": {
   "interpreter": {
    "hash": "4100cc85ffefb381c538d28dd18cb927e5a99f05bbed6aaad5313d7bb1c2079e"
   }
  }
 },
 "nbformat": 4,
 "nbformat_minor": 4
}
