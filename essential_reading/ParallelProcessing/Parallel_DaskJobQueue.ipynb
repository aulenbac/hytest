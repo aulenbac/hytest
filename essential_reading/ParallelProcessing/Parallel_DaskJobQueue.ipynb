{
 "cells": [
  {
   "cell_type": "markdown",
   "metadata": {},
   "source": [
    "# Dask Job Queue\n",
    "\n",
    "The [dask](https://docs.dask.org/en/stable/) python library facilitates parallel computing \n",
    "within Python. It covers a lot of the details for interacting with workload schedulers, \n",
    "such as the [SLURM](https://slurm.schedmd.com/) scheduler used on the HPC\n",
    "hardware. \n"
   ]
  },
  {
   "cell_type": "code",
   "execution_count": null,
   "metadata": {},
   "outputs": [],
   "source": [
    "import os\n",
    "from dask_jobqueue import SLURMCluster\n",
    "from dask.distributed import Client\n",
    "\n",
    "\n",
    "## For slurm cluster on tallgrass\n",
    "assert os.environ['SLURM_CLUSTER_NAME'] == 'tallgrass'\n",
    "cluster = SLURMCluster(\n",
    "    processes=1,\n",
    "    cores=1,            #per job\n",
    "    memory='10GB',      #per job\n",
    "    interface='ib0',    #network interface for scheduler-worker communication.\n",
    "    account='woodshole',  #<-- Accounting; \n",
    "    walltime='04:00:00',\n",
    "    job_extra_directives={'hint': 'multithread', 'exclusive':'user'}\n",
    "    )\n",
    "cluster.scale(18)\n",
    "\n",
    "client = Client(cluster)\n"
   ]
  },
  {
   "cell_type": "markdown",
   "metadata": {},
   "source": [
    "\n",
    "\n",
    "The `scale()` method submits a batch of jobs to the SLURM job queue system.  \n",
    "Depending on how busy the job queue is, it can take a few minutes for workers \n",
    "to join your cluster. You can usually check the status of your queued jobs \n",
    "using a command line utility like \n",
    "```\n",
    "squeue -u $USER\n",
    "```\n",
    "You can also check the status of your cluster from inside your Jupyter session:"
   ]
  },
  {
   "cell_type": "code",
   "execution_count": 1,
   "metadata": {},
   "outputs": [
    {
     "ename": "NameError",
     "evalue": "name 'client' is not defined",
     "output_type": "error",
     "traceback": [
      "\u001b[1;31m---------------------------------------------------------------------------\u001b[0m",
      "\u001b[1;31mNameError\u001b[0m                                 Traceback (most recent call last)",
      "Cell \u001b[1;32mIn [1], line 1\u001b[0m\n\u001b[1;32m----> 1\u001b[0m \u001b[38;5;28mprint\u001b[39m(\u001b[43mclient\u001b[49m)\n",
      "\u001b[1;31mNameError\u001b[0m: name 'client' is not defined"
     ]
    }
   ],
   "source": [
    "print(client)\n"
   ]
  },
  {
   "cell_type": "markdown",
   "metadata": {},
   "source": [
    "\n",
    "For more examples of how to use\n",
    "[dask-jobqueue](http://dask-jobqueue.readthedocs.io), refer to the\n",
    "[package documentation](http://dask-jobqueue.readthedocs.io).\n",
    "\n",
    "\n",
    "## Further Reading\n",
    "\n",
    " -   [Deploying Dask on HPC](http://dask.pydata.org/en/latest/setup/hpc.html)\n",
    " -   [Configuring and Deploying Jupyter Servers](http://jupyter-notebook.readthedocs.io/en/stable/index.html)\n",
    "\n"
   ]
  }
 ],
 "metadata": {
  "kernelspec": {
   "display_name": "Python 3.10.6 ('hytest')",
   "language": "python",
   "name": "python3"
  },
  "language_info": {
   "codemirror_mode": {
    "name": "ipython",
    "version": 3
   },
   "file_extension": ".py",
   "mimetype": "text/x-python",
   "name": "python",
   "nbconvert_exporter": "python",
   "pygments_lexer": "ipython3",
   "version": "3.10.6"
  },
  "vscode": {
   "interpreter": {
    "hash": "d7ebce313f85fb1ac8949e834c83f371584cb2422d845bf1570c1220fdedc716"
   }
  }
 },
 "nbformat": 4,
 "nbformat_minor": 2
}
