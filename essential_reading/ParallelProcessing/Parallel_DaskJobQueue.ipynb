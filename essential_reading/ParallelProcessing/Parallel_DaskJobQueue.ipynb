{
 "cells": [
  {
   "cell_type": "markdown",
   "metadata": {},
   "source": [
    "# Dask Job Queue\n",
    "\n",
    "The [dask](https://docs.dask.org/en/stable/) library facilitates parallel computing \n",
    "within Python. It covers a lot of the details for interacting with HPC schedulers, \n",
    "such as the SLURM scheduler in use on `denali` and `tallgrass`.\n",
    "\n"
   ]
  },
  {
   "cell_type": "code",
   "execution_count": null,
   "metadata": {},
   "outputs": [],
   "source": [
    "import os\n",
    "from dask_jobqueue import SLURMCluster\n",
    "\n",
    "if os.environ['SLURM_CLUSTER_NAME']=='tallgrass':\n",
    "    cluster = SLURMCluster(processes=1,cores=1, \n",
    "        memory='10GB', interface='ib0',\n",
    "        project='woodshole', walltime='04:00:00',\n",
    "        job_extra={'hint': 'multithread', \n",
    "        'exclusive':'user'})\n",
    "\n",
    "cluster.scale(18)\n",
    "from dask.distributed import Client\n",
    "client = Client(cluster)\n"
   ]
  },
  {
   "cell_type": "markdown",
   "metadata": {},
   "source": [
    "\n",
    "\n",
    "The `scale()` method submits a batch of jobs to the SLURM job queue system.  \n",
    "Depending on how busy the job queue is, it can take a few minutes for workers \n",
    "to join your cluster. You can usually check the status of your queued jobs \n",
    "using a command line utility like `squeue -u $USER`. You can also check the \n",
    "status of your cluster from inside your Jupyter session:\n"
   ]
  },
  {
   "cell_type": "code",
   "execution_count": null,
   "metadata": {},
   "outputs": [],
   "source": [
    "print(client)\n"
   ]
  },
  {
   "cell_type": "markdown",
   "metadata": {},
   "source": [
    "\n",
    "For more examples of how to use\n",
    "[dask-jobqueue](http://dask-jobqueue.readthedocs.io), refer to the\n",
    "[package documentation](http://dask-jobqueue.readthedocs.io).\n",
    "\n",
    "\n",
    "## Further Reading\n",
    "\n",
    " -   [Deploying Dask on HPC](http://dask.pydata.org/en/latest/setup/hpc.html)\n",
    " -   [Configuring and Deploying Jupyter Servers](http://jupyter-notebook.readthedocs.io/en/stable/index.html)\n",
    "\n"
   ]
  }
 ],
 "metadata": {
  "kernelspec": {
   "display_name": "Python 3.9.5 64-bit",
   "language": "python",
   "name": "python3"
  },
  "language_info": {
   "name": "python",
   "version": "3.9.5"
  },
  "vscode": {
   "interpreter": {
    "hash": "0514dab55ce3bd50b64aa69806535aa18229a1037a97536284e8ae51d3102f7b"
   }
  }
 },
 "nbformat": 4,
 "nbformat_minor": 2
}
