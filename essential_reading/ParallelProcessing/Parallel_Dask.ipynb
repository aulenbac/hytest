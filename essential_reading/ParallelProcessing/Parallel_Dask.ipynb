{
 "cells": [
  {
   "cell_type": "markdown",
   "metadata": {},
   "source": [
    "# Parallelism with Dask\n",
    "\n",
    "The dask folks have a very good introduction to dask data structures and parallelism in their\n",
    "[dask tutorial](https://tutorial.dask.org/).  In that tutorial, you'll get exposure to \n",
    "the general dask architecture, as well as specific hands-on examples with two of the three\n",
    "key dask data structures:  dask arrays, and dask dataframes. \n",
    "\n",
    "The above tutorial does not cover dask `bag` in any detail -- this is a key data structure\n",
    "that we use to distribute parallel tasks in clustered environments.  Here's a quick demo of \n",
    "a dask bag and how we use it. \n"
   ]
  },
  {
   "cell_type": "markdown",
   "metadata": {},
   "source": [
    "## Lists and Maps\n",
    "\n",
    "A common pattern in Python is a 'list comprehension' -- a way of transforming a list of values into a new list of values using the same transformation pattern."
   ]
  },
  {
   "cell_type": "code",
   "execution_count": 36,
   "metadata": {},
   "outputs": [
    {
     "data": {
      "text/plain": [
       "[1, 4, 9, 16, 25, 36, 49, 64, 81, 100]"
      ]
     },
     "execution_count": 36,
     "metadata": {},
     "output_type": "execute_result"
    }
   ],
   "source": [
    "myList = [1, 2, 3, 4, 5, 6, 7, 8, 9, 10]\n",
    "\n",
    "newList = [x**2 for x in myList]\n",
    "\n",
    "newList"
   ]
  },
  {
   "cell_type": "markdown",
   "metadata": {},
   "source": [
    "This feature of python 'map's an action onto each element in a list. The result is a new list\n",
    "with the result of each action.  The syntax of the above list comprehension is purely for us\n",
    "humans... the python implementation behind the scenes uses a special built-in python function called `map`:"
   ]
  },
  {
   "cell_type": "code",
   "execution_count": 29,
   "metadata": {},
   "outputs": [
    {
     "data": {
      "text/plain": [
       "[1, 4, 9, 16, 25, 36, 49, 64]"
      ]
     },
     "execution_count": 29,
     "metadata": {},
     "output_type": "execute_result"
    }
   ],
   "source": [
    "def myFunc(i):\n",
    "    return i**2\n",
    "\n",
    "list(map(myFunc, myList))\n",
    "# maps each element of myList to a separate invokation of myFunc. "
   ]
  },
  {
   "cell_type": "markdown",
   "metadata": {},
   "source": [
    "You can see that doing it this way involves a lot of extra hoops and parenthesis to jump through.. which is why it is almost never written that way.  The `myFunc()` function is called several times, once for each element in `myList`. The list element is given to the function as a positional argument.  In essence, the above `map` is the same as: \n",
    "\n"
   ]
  },
  {
   "cell_type": "code",
   "execution_count": 30,
   "metadata": {},
   "outputs": [
    {
     "data": {
      "text/plain": [
       "[1, 4, 9, 16, 25, 36, 49, 64]"
      ]
     },
     "execution_count": 30,
     "metadata": {},
     "output_type": "execute_result"
    }
   ],
   "source": [
    "result=[]\n",
    "for x in myList:\n",
    "    result.append(myFunc(x))\n",
    "result"
   ]
  },
  {
   "cell_type": "markdown",
   "metadata": {},
   "source": [
    "## Dask Bag\n",
    "\n",
    "A dask bag datastructure is much like a list, but it has the `map` function built into it as an object method. The invocation is slightly different, and it has the ability to spawn the `myFunc()` calls in parallel, distributing those calls to workers around the cluster. \n",
    "\n",
    "Let's look at an example... first, let's make `myFunc()` simulate time-consuming work by having it pause for a while. "
   ]
  },
  {
   "cell_type": "code",
   "execution_count": 31,
   "metadata": {},
   "outputs": [],
   "source": [
    "from time import sleep\n",
    "def myFunc(i):\n",
    "    sleep(1) ## Simulates dense computation taking one second\n",
    "    return i**2"
   ]
  },
  {
   "cell_type": "markdown",
   "metadata": {},
   "source": [
    "This function is one that we want to distribute across a dask compute cluster...\n",
    "\n",
    ":::{sidebar}\n",
    "For a primer on cluster configuration, see [here](Parallel_Clusters.md)\n",
    ":::\n"
   ]
  },
  {
   "cell_type": "code",
   "execution_count": 15,
   "metadata": {},
   "outputs": [],
   "source": [
    "import os\n",
    "import dask.bag as db\n",
    "\n",
    "from dask.distributed import Client, LocalCluster\n",
    "cluster = LocalCluster(threads_per_worker=os.cpu_count())\n",
    "client = Client(cluster)"
   ]
  },
  {
   "cell_type": "code",
   "execution_count": 32,
   "metadata": {},
   "outputs": [],
   "source": [
    "# fill the bag with our list of items\n",
    "myBag = db.from_sequence(myList)\n",
    "result = myBag.map(myFunc)"
   ]
  },
  {
   "cell_type": "markdown",
   "metadata": {},
   "source": [
    "Note that this returned immediately. As with other dask operations, `result` at this point just contains the task graph -- what it is going to do, and in what order. \n",
    "\n",
    "Visulalize the task graph:"
   ]
  },
  {
   "cell_type": "code",
   "execution_count": 33,
   "metadata": {},
   "outputs": [
    {
     "data": {
      "image/png": "[encoded data removed]",
      "text/plain": [
       "<IPython.core.display.Image object>"
      ]
     },
     "execution_count": 33,
     "metadata": {},
     "output_type": "execute_result"
    }
   ],
   "source": [
    "result.visualize()"
   ]
  },
  {
   "cell_type": "markdown",
   "metadata": {},
   "source": [
    "Note that each of those elements is independent from the others, so they can in theory execute in parallel. In the original, pure-python operation, these calls to `myFunc` would be serialized. \n",
    "\n",
    "Let's compare:\n"
   ]
  },
  {
   "cell_type": "code",
   "execution_count": 34,
   "metadata": {},
   "outputs": [
    {
     "name": "stdout",
     "output_type": "stream",
     "text": [
      "CPU times: total: 78.1 ms\n",
      "Wall time: 8.07 s\n"
     ]
    },
    {
     "data": {
      "text/plain": [
       "[1, 4, 9, 16, 25, 36, 49, 64]"
      ]
     },
     "execution_count": 34,
     "metadata": {},
     "output_type": "execute_result"
    }
   ],
   "source": [
    "%%time\n",
    "## Pure python mapping:\n",
    "list( map( myFunc, myList))"
   ]
  },
  {
   "cell_type": "code",
   "execution_count": 35,
   "metadata": {},
   "outputs": [
    {
     "name": "stdout",
     "output_type": "stream",
     "text": [
      "CPU times: total: 78.1 ms\n",
      "Wall time: 1.06 s\n"
     ]
    },
    {
     "data": {
      "text/plain": [
       "[1, 4, 9, 16, 25, 36, 49, 64]"
      ]
     },
     "execution_count": 35,
     "metadata": {},
     "output_type": "execute_result"
    }
   ],
   "source": [
    "%%time\n",
    "## using the dask bag task-graph\n",
    "result.compute()"
   ]
  },
  {
   "cell_type": "markdown",
   "metadata": {},
   "source": [
    "Note that the pure python execution took right around 10 seconds.  Each call to `myFunc`, remember, is artificially set to take one second each.  Calling them serially should take 10 seconds (plus whatever internal overhead python needs). \n",
    "\n",
    "The dask bag approach took substantially less time. If it were **perfectly** parallel, the result would have been computed in one second (ten simultaneous executions of `myFunc`, each taking one second).  But that parallelism depends on how many cpus/cores you have.  If you only have one core, then parallelism isn't going to help  you -- the dispatched workers still need to take turns on the CPU.  \n",
    "\n",
    "If you had 10 cores (the number of elements in the bag), then you might get close to the perfect parallelism.  Dask does involve more overhead than pure python in order to achieve its parallelism; the administrative overhead for operating the cluster scheduler will prevent this from being perfectly parallel. "
   ]
  },
  {
   "cell_type": "code",
   "execution_count": 37,
   "metadata": {},
   "outputs": [],
   "source": [
    "## shut down cluster scheduler\n",
    "client.close(); del client\n",
    "cluster.close(); del cluster"
   ]
  },
  {
   "cell_type": "markdown",
   "metadata": {},
   "source": [
    "This pattern is used extensively in the benchmarking workflows.  A series of statistics are calculated for each streamgage in a list of 5000+ gages. With a dask bag (the contents of which is the list of gages), the stats package can be dispatched to workers operating independently and in parallel. "
   ]
  },
  {
   "cell_type": "markdown",
   "metadata": {},
   "source": []
  }
 ],
 "metadata": {
  "kernelspec": {
   "display_name": "Python 3.10.6 ('hytest')",
   "language": "python",
   "name": "python3"
  },
  "language_info": {
   "codemirror_mode": {
    "name": "ipython",
    "version": 3
   },
   "file_extension": ".py",
   "mimetype": "text/x-python",
   "name": "python",
   "nbconvert_exporter": "python",
   "pygments_lexer": "ipython3",
   "version": "3.10.6"
  },
  "orig_nbformat": 4,
  "vscode": {
   "interpreter": {
    "hash": "d7ebce313f85fb1ac8949e834c83f371584cb2422d845bf1570c1220fdedc716"
   }
  }
 },
 "nbformat": 4,
 "nbformat_minor": 2
}
