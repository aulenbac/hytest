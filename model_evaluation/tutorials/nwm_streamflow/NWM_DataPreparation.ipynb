{
 "cells": [
  {
   "cell_type": "markdown",
   "metadata": {},
   "source": [
    "# Model Evaluation :: Data Preparation\n",
    "\n",
    "As a part of the generalized evaluation workflow: \n",
    "\n",
    "<img src='./Eval_PreProc.svg' width=600>\n",
    "\n",
    "The pre-processing step is needed in order to align the two datasets for analysis.  The specific \n",
    "steps needed to prepare a given dataset may differ, depending on the source and the variable of\n",
    "interest. \n",
    "\n",
    "Some steps might include: \n",
    "* Organizing the time-series index such that the time steps for both simulated and observed are congruent\n",
    "    * This may involve interpolation to estimate a more granular time-step\n",
    "    * More often, an agregating function is used to 'down-sample' the dataset to a coarser time step (days vs hours).\n",
    "* Coordinate aggregation units between simulated and observed \n",
    "    * Gridded data may be sampled per HUC-12, HUC-6, etc. to match modeled data indexed by these units. \n",
    "    * Index formats may be adjusted (e.g. a 'gage_id' may be 'USGS-01104200' in one data set, vs '01104200' in another)\n",
    "* Re-Chunking the data to make time-series analysis more efficient (see [here](/dev/null) for a primer on re-chunking).\n",
    "\n",
    "At this stage, a given variable should be represented as a pair of 2D array of values (one for simulated, one for observed). \n",
    "One dimension of the array is indexed by some nominal data field ('gage_id', 'HUC-12 ID', etc), while the other dimension \n",
    "is indexed by time step."
   ]
  },
  {
   "cell_type": "code",
   "execution_count": null,
   "metadata": {},
   "outputs": [],
   "source": []
  }
 ],
 "metadata": {
  "kernelspec": {
   "display_name": "Python 3 (ipykernel)",
   "language": "python",
   "name": "python3"
  },
  "language_info": {
   "codemirror_mode": {
    "name": "ipython",
    "version": 3
   },
   "file_extension": ".py",
   "mimetype": "text/x-python",
   "name": "python",
   "nbconvert_exporter": "python",
   "pygments_lexer": "ipython3",
   "version": "3.10.6"
  },
  "vscode": {
   "interpreter": {
    "hash": "d7ebce313f85fb1ac8949e834c83f371584cb2422d845bf1570c1220fdedc716"
   }
  }
 },
 "nbformat": 4,
 "nbformat_minor": 4
}
