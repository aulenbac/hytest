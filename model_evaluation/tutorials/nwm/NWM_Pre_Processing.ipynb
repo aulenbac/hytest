{
 "cells": [
  {
   "cell_type": "markdown",
   "metadata": {},
   "source": [
    "# NWM Pre-Processing\n",
    "\n",
    "As a part of the generalized evaluation workflow: \n",
    "\n",
    "```mermaid\n",
    "flowchart LR\n",
    "    classDef thisStep fill:#ff0,stroke:#333,stroke-width:2px;\n",
    "\n",
    "    subgraph Src[Source Data]\n",
    "        direction TB\n",
    "        SIM[(Simulated /<br>Modeled)]\n",
    "        OBS[(Observed /<br>Reference)]\n",
    "    end\n",
    "    subgraph PreProc [Pre-Processing]\n",
    "        direction TB\n",
    "        SIM_r[[Simulated<br>/<br>Modeled<br>]]\n",
    "        OBS_r[[Observed<br>/<br>Reference]]\n",
    "    end\n",
    "    subgraph Analysis\n",
    "        direction LR\n",
    "        Metrics[/Metrics/]\n",
    "        Domain[/Domain/]\n",
    "        Data[(\"Data\")]\n",
    "        Analysis_r[[<font size=6>Analysis]] \n",
    "        Domain --> Analysis_r\n",
    "        Data --> Analysis_r\n",
    "        Metrics --> Analysis_r\n",
    "    end\n",
    "    subgraph Viz [Visualization]\n",
    "        direction TB\n",
    "        Explore\n",
    "        Plot\n",
    "        Score\n",
    "        Explore-.->Plot-.->Score\n",
    "    end\n",
    "    SIM --> SIM_r\n",
    "    OBS --> OBS_r\n",
    "    SIM_r --> Data\n",
    "    OBS_r --> Data\n",
    "    Analysis_r --\"Metrics\"--> Viz\n",
    "    \n",
    "    %% change 'Src' to the node name you want to highlight\n",
    "    %% Src | PreProc | Analysis | Viz\n",
    "    %%class Src thisStep\n",
    "```\n"
   ]
  },
  {
   "cell_type": "code",
   "execution_count": null,
   "metadata": {
    "vscode": {
     "languageId": "plaintext"
    }
   },
   "outputs": [],
   "source": []
  }
 ],
 "metadata": {
  "kernelspec": {
   "display_name": "Python 3 (ipykernel)",
   "language": "python",
   "name": "python3"
  },
  "language_info": {
   "codemirror_mode": {
    "name": "ipython",
    "version": 3
   },
   "file_extension": ".py",
   "mimetype": "text/x-python",
   "name": "python",
   "nbconvert_exporter": "python",
   "pygments_lexer": "ipython3",
   "version": "3.10.6"
  }
 },
 "nbformat": 4,
 "nbformat_minor": 4
}
