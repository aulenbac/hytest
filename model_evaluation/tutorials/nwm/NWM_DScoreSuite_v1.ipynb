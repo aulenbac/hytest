{
 "cells": [
  {
   "cell_type": "markdown",
   "metadata": {},
   "source": [
    "# 'D-Score Suite (v1)' Benchmark\n",
    "\n",
    "These are custom-defined Python functions to calculate metrics against time-series data. \n",
    "\n",
    "These statistics adapted from the originals in <https://github.com/thodson-usgs/dscore> \n",
    "\n",
    "See: <https://doi.org/10.1029/2021MS002681>\n"
   ]
  },
  {
   "cell_type": "markdown",
   "metadata": {},
   "source": [
    "## The Metrics:\n",
    "This suite of metrics describesc the content of the benchmark:\n",
    "| Metric          | Reference                                                           |\n",
    "| ----- | ----- |\n",
    "| mse             | Mean Squared Error |\n",
    "| bias            |  |\n",
    "| distribution    |  |\n",
    "| sequence        |  |\n",
    "| Seasonal-winter |  |\n",
    "| Seasonal-spring |  |\n",
    "| Seasonal-summer |  |\n",
    "| Seasonal-fall   |  |\n",
    "| mse_Q0025  ; mse_Qlow        |  |\n",
    "| mse_Q2550  ; mse_Qbelowavg   |  |\n",
    "| mse_Q5075  ; mse_Qaboveavg   |  |\n",
    "| mse_Q75100 ; mse_Qhigh       |  |\n",
    "\n",
    "\n",
    "This notebook will briefly describe each of the above metrics, and show some results using sample data. \n",
    "The specific code to implement each metric is included.  This notebook can be sourced into analysis notebooks\n",
    "to get access to these functions natively. "
   ]
  },
  {
   "cell_type": "code",
   "execution_count": null,
   "metadata": {},
   "outputs": [],
   "source": [
    "\n",
    "import logging\n",
    "import numpy as np\n",
    "import pandas as pd"
   ]
  },
  {
   "cell_type": "markdown",
   "metadata": {},
   "source": [
    "## Mean Squared Error"
   ]
  },
  {
   "cell_type": "code",
   "execution_count": null,
   "metadata": {},
   "outputs": [],
   "source": [
    "def mse(obs, sim) -> float:\n",
    "    \"\"\"\n",
    "    Mean Square Error --   Compute MSE over all paired values observed (x) and simulated/modeled (x_hat)\n",
    "        .. math::\n",
    "            \\sum_{i=1}^{n}(x_i - \\hat{x}_i)^2\n",
    "\n",
    "    Returns\n",
    "    -------\n",
    "    float\n",
    "        Mean square error\n",
    "    \"\"\"\n",
    "    e = obs - sim\n",
    "    return np.mean(e**2)"
   ]
  },
  {
   "cell_type": "markdown",
   "metadata": {},
   "source": [
    "## Percent Bias"
   ]
  },
  {
   "cell_type": "code",
   "execution_count": null,
   "metadata": {},
   "outputs": [],
   "source": [
    "\n",
    "def pbias(obs, sim) -> float:\n",
    "    \"\"\"\n",
    "    percent bias -- a measure of the mean tendency of simulated values to be\n",
    "    greater than or less than associated observed values.\n",
    "\n",
    "    Returns:\n",
    "        float: calculated percent bias / units = percent (i.e. 90 rather than 0.90)\n",
    "    \"\"\"\n",
    "    return 100 * np.sum(sim - obs) / np.sum(obs)\n",
    "    "
   ]
  },
  {
   "cell_type": "markdown",
   "metadata": {},
   "source": [
    "## Bias"
   ]
  },
  {
   "cell_type": "code",
   "execution_count": null,
   "metadata": {},
   "outputs": [],
   "source": [
    "\n",
    "def bias(obs, sim) -> float:\n",
    "    \"\"\"\n",
    "    Bias = square of mean error\n",
    "\n",
    "    Returns:\n",
    "        _type_: _description_\n",
    "    \"\"\"\n",
    "    return np.mean(obs - sim)**2\n"
   ]
  },
  {
   "cell_type": "markdown",
   "metadata": {},
   "source": [
    "## Error Variannce"
   ]
  },
  {
   "cell_type": "code",
   "execution_count": null,
   "metadata": {},
   "outputs": [],
   "source": [
    "\n",
    "\n",
    "def e_variance(obs, sim) -> float:\n",
    "    \"\"\"_summary_\n",
    "\n",
    "    Args:\n",
    "        obs (pd.Series - like): data representing observed values\n",
    "        sim (pd.Series - like): data representing simulated/modeled values\n",
    "\n",
    "    Returns:\n",
    "        float: variance of the error\n",
    "    \"\"\"\n",
    "    e = sim - obs\n",
    "    return e.var(ddof=1)"
   ]
  },
  {
   "cell_type": "markdown",
   "metadata": {},
   "source": [
    "## Sequence"
   ]
  },
  {
   "cell_type": "code",
   "execution_count": null,
   "metadata": {},
   "outputs": [],
   "source": [
    "\n",
    "def sequence(obs, sim) -> float:\n",
    "    \"\"\"_summary_\n",
    "\n",
    "    Args:\n",
    "        obs (pd.Series - like): data representing observed values\n",
    "        sim (pd.Series - like): data representing simulated/modeled values\n",
    "\n",
    "    Returns:\n",
    "        float: _description_\n",
    "    \"\"\"\n",
    "    e = sim - obs\n",
    "    s = np.sort(sim) - np.sort(obs)\n",
    "    var_s = s.var(ddof=1)\n",
    "    var_e = e.var(ddof=1)\n",
    "    seq = var_e - var_s\n",
    "    return seq\n",
    "\n"
   ]
  },
  {
   "cell_type": "markdown",
   "metadata": {},
   "source": [
    "## Distribution"
   ]
  },
  {
   "cell_type": "code",
   "execution_count": null,
   "metadata": {},
   "outputs": [],
   "source": [
    "\n",
    "def distribution(obs, sim) -> float:\n",
    "    \"\"\"_summary_\n",
    "\n",
    "    Args:\n",
    "        obs (pd.Series - like): data representing observed values\n",
    "        sim (pd.Series - like): data representing simulated/modeled values\n",
    "\n",
    "    Returns:\n",
    "        float: _description_\n",
    "    \"\"\"\n",
    "    s = np.sort(sim) - np.sort(obs)\n",
    "    var_s = s.var(ddof=1)\n",
    "    return var_s"
   ]
  },
  {
   "cell_type": "markdown",
   "metadata": {},
   "source": [
    "# Seasonal MSE"
   ]
  },
  {
   "cell_type": "code",
   "execution_count": null,
   "metadata": {},
   "outputs": [],
   "source": [
    "\n",
    "\n",
    "def seasonal_mse(obs, sim):\n",
    "    \"\"\"\n",
    "    Decompose error by season.\n",
    "\n",
    "    Args:\n",
    "        obs (pd.Series - like): data representing observed values\n",
    "        sim (pd.Series - like): data representing simulated/modeled values\n",
    "\n",
    "    Both obs and sim should be time-indexed, such that we can pick out months\n",
    "    from the time value.\n",
    "\n",
    "    Returns:\n",
    "        pd.Series : mse for 4 major seasons\n",
    "    \n",
    "    NOTE: 'season' is viewed from a northern-hemisphere perspective\n",
    "    \"\"\"\n",
    "\n",
    "    names = ['winter', 'spring', 'summer', 'fall']\n",
    "    \n",
    "    idx = (obs.index.month == 12) | (obs.index.month <= 2) \n",
    "    winter = mse(obs[idx], sim[idx])\n",
    "\n",
    "    idx = (obs.index.month > 2) & (obs.index.month <= 5) \n",
    "    spring = mse(obs[idx], sim[idx])\n",
    "\n",
    "    idx = (obs.index.month > 5) & (obs.index.month <= 8) \n",
    "    summer = mse(obs[idx], sim[idx])   \n",
    "    \n",
    "    idx = (obs.index.month > 8) & (obs.index.month <= 11) \n",
    "    fall = mse(obs[idx], sim[idx])\n",
    "\n",
    "    return pd.Series([winter, spring, summer, fall], index=names)\n",
    "\n",
    "# def seasons(x, x_h):\n",
    "#     \"\"\"Decompose error by season.\n",
    "#     Parameters\n",
    "#     ----------\n",
    "#     x : array_like\n",
    "#     x_h : array_like\n",
    "#     \"\"\"\n",
    "#     def season(e, index):\n",
    "#         return ((e*index)**2).mean()\n",
    "\n",
    "#     names = ['winter', 'spring', 'summer', 'fall']\n",
    "#     e = x_h - x\n",
    "    \n",
    "#     winter = season(e, (e.index.month == 12) | (e.index.month <= 2))\n",
    "#     spring = season(e, (e.index.month > 2) & (e.index.month <= 5))\n",
    "#     summer = season(e, (e.index.month > 5) & (e.index.month <= 8))\n",
    "#     fall = season(e, (e.index.month > 8) & (e.index.month <= 11))\n",
    "\n",
    "#     return pd.Series([winter, spring, summer, fall], index=names)\n",
    "\n"
   ]
  },
  {
   "cell_type": "code",
   "execution_count": null,
   "metadata": {},
   "outputs": [],
   "source": [
    "\n",
    "def quantile_mse(obs, sim):\n",
    "    \"\"\"\n",
    "    Description\n",
    "    \"\"\"\n",
    "    breaks=[0, 0.25, 0.5, 0.75, 1]\n",
    "    labels=['low', 'below_avg', 'above_avg', 'high']\n",
    "    e = sim - obs\n",
    "    scores = []\n",
    "    ranks = obs.rank(method='first')\n",
    "    quants = pd.qcut(ranks, q=breaks)\n",
    "    for i in range(len(breaks) - 1):\n",
    "        quant = e * (quants == quants.cat.categories[i])  # select quantile\n",
    "        mse_q = ((quant)**2).mean()\n",
    "        scores.append(mse_q)\n",
    "    return pd.Series(scores, index=labels)"
   ]
  },
  {
   "cell_type": "code",
   "execution_count": null,
   "metadata": {},
   "outputs": [],
   "source": [
    "\n",
    "def score(e, a=1.0):\n",
    "    \"\"\"\n",
    "    Scores an error\n",
    "\n",
    "    Exponential scoring function that maps MSE to the unit interval.\n",
    "\n",
    "    Parameters\n",
    "    ----------\n",
    "    a : float\n",
    "        Positive tuning parameter.\n",
    "\n",
    "    References\n",
    "    ----------\n",
    "    .. [1] Collier et al., 2018, The International Land Model Benchmarking\n",
    "    (ILAMB) system: Design, theory, and implementation. Journal of Advances\n",
    "    in Modeling Earth Systems, 10(11), http://dx.doi.org/10.1029/2018ms001354\n",
    "    \"\"\"\n",
    "    if a <= 0.0:\n",
    "        raise ValueError(\"Tuning parameter must be a positive float\")\n",
    "    return np.exp(-1 * a * e)"
   ]
  },
  {
   "cell_type": "code",
   "execution_count": null,
   "metadata": {},
   "outputs": [],
   "source": [
    "try:\n",
    "    from statsmodels.tsa.seasonal import STL\n",
    "    _SEASONAL = True\n",
    "except ImportError:\n",
    "    logging.debug(\"STL library not available.\")\n",
    "    _SEASONAL = False\n",
    "\n",
    "def stl(obs, sim):\n",
    "    \"\"\"\n",
    "    Decompose error using STL.\n",
    "\n",
    "    Seasonal and trend decomposition using Loess (STL).\n",
    "    Note that STL is not perfectly orthogonal.\n",
    "\n",
    "    References\n",
    "    ----------\n",
    "    .. [1] Cleveland et al., 1990, STL: A seasonal-trend decomposition\n",
    "    procedure based on loess. Journal of Official Statistics, 6(1), 3-73.\n",
    "    \"\"\"\n",
    "    if not _SEASONAL:\n",
    "        logging.warning(\"STL statistics not available.\")\n",
    "        return None\n",
    "    e = sim - obs\n",
    "    res = STL(e, period=365, seasonal=9).fit()\n",
    "    E = pd.DataFrame(\n",
    "        {\n",
    "            'trend': res.trend,\n",
    "            'seasonality': res.seasonal,\n",
    "            'residual': res.resid\n",
    "        }\n",
    "    )\n",
    "    return (E**2).mean()"
   ]
  }
 ],
 "metadata": {
  "kernelspec": {
   "display_name": "Python 3.9.7 ('base')",
   "language": "python",
   "name": "python3"
  },
  "language_info": {
   "codemirror_mode": {
    "name": "ipython",
    "version": 3
   },
   "file_extension": ".py",
   "mimetype": "text/x-python",
   "name": "python",
   "nbconvert_exporter": "python",
   "pygments_lexer": "ipython3",
   "version": "3.9.7"
  },
  "vscode": {
   "interpreter": {
    "hash": "ad2bdc8ecc057115af97d19610ffacc2b4e99fae6737bb82f5d7fb13d2f2c186"
   }
  }
 },
 "nbformat": 4,
 "nbformat_minor": 2
}
