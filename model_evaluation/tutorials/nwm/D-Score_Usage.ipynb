{
 "cells": [
  {
   "cell_type": "markdown",
   "metadata": {},
   "source": [
    "# D-Score Benchmark Usage\n",
    "**NOTE**: \n",
    "_This notebook adapted from originals by Timothy Hodson and Rich Signell. See that upstream work at:_\n",
    "* https://github.com/thodson-usgs/dscore\n",
    "* https://github.com/USGS-python/hytest-evaluation-workflows/\n",
    "\n",
    "This notebook will demonstrate how to call the specific functions defined in the [D-Score Suite v1](./D-Score_Suite_v1.ipynb)\n",
    "notebook, using a small demonstration dataset."
   ]
  },
  {
   "cell_type": "code",
   "execution_count": 1,
   "metadata": {},
   "outputs": [],
   "source": [
    "import pandas as pd\n",
    "import numpy as np"
   ]
  },
  {
   "cell_type": "markdown",
   "metadata": {},
   "source": [
    "## Sample Data"
   ]
  },
  {
   "cell_type": "code",
   "execution_count": 7,
   "metadata": {},
   "outputs": [
    {
     "name": "stdout",
     "output_type": "stream",
     "text": [
      "12145  Records\n"
     ]
    }
   ],
   "source": [
    "ds = pd.read_csv(r\"./NWM_Benchmark_SampleData.csv\", index_col='date', parse_dates=True).dropna()\n",
    "print(len(ds.index), \" Records\")"
   ]
  },
  {
   "cell_type": "code",
   "execution_count": 8,
   "metadata": {},
   "outputs": [
    {
     "data": {
      "text/html": [
       "<div>\n",
       "<style scoped>\n",
       "    .dataframe tbody tr th:only-of-type {\n",
       "        vertical-align: middle;\n",
       "    }\n",
       "\n",
       "    .dataframe tbody tr th {\n",
       "        vertical-align: top;\n",
       "    }\n",
       "\n",
       "    .dataframe thead th {\n",
       "        text-align: right;\n",
       "    }\n",
       "</style>\n",
       "<table border=\"1\" class=\"dataframe\">\n",
       "  <thead>\n",
       "    <tr style=\"text-align: right;\">\n",
       "      <th></th>\n",
       "      <th>site_no</th>\n",
       "      <th>obs</th>\n",
       "      <th>nwm</th>\n",
       "      <th>nhm</th>\n",
       "    </tr>\n",
       "    <tr>\n",
       "      <th>date</th>\n",
       "      <th></th>\n",
       "      <th></th>\n",
       "      <th></th>\n",
       "      <th></th>\n",
       "    </tr>\n",
       "  </thead>\n",
       "  <tbody>\n",
       "    <tr>\n",
       "      <th>1983-10-01</th>\n",
       "      <td>1104200</td>\n",
       "      <td>1.121347</td>\n",
       "      <td>6.175417</td>\n",
       "      <td>1.469472</td>\n",
       "    </tr>\n",
       "    <tr>\n",
       "      <th>1983-10-02</th>\n",
       "      <td>1104200</td>\n",
       "      <td>1.214793</td>\n",
       "      <td>6.250417</td>\n",
       "      <td>1.848861</td>\n",
       "    </tr>\n",
       "    <tr>\n",
       "      <th>1983-10-03</th>\n",
       "      <td>1104200</td>\n",
       "      <td>0.872159</td>\n",
       "      <td>6.215833</td>\n",
       "      <td>2.169456</td>\n",
       "    </tr>\n",
       "    <tr>\n",
       "      <th>1983-10-04</th>\n",
       "      <td>1104200</td>\n",
       "      <td>0.419089</td>\n",
       "      <td>6.105000</td>\n",
       "      <td>2.200083</td>\n",
       "    </tr>\n",
       "    <tr>\n",
       "      <th>1983-10-05</th>\n",
       "      <td>1104200</td>\n",
       "      <td>0.849505</td>\n",
       "      <td>5.952500</td>\n",
       "      <td>1.931588</td>\n",
       "    </tr>\n",
       "  </tbody>\n",
       "</table>\n",
       "</div>"
      ],
      "text/plain": [
       "            site_no       obs       nwm       nhm\n",
       "date                                             \n",
       "1983-10-01  1104200  1.121347  6.175417  1.469472\n",
       "1983-10-02  1104200  1.214793  6.250417  1.848861\n",
       "1983-10-03  1104200  0.872159  6.215833  2.169456\n",
       "1983-10-04  1104200  0.419089  6.105000  2.200083\n",
       "1983-10-05  1104200  0.849505  5.952500  1.931588"
      ]
     },
     "execution_count": 8,
     "metadata": {},
     "output_type": "execute_result"
    }
   ],
   "source": [
    "ds.head()"
   ]
  },
  {
   "cell_type": "markdown",
   "metadata": {},
   "source": [
    "## Import Benchmark Functions\n",
    "The benchmark functions are defined in an [adjacent notebook](./D-Score_Suite_v1.ipynb).  They are imported here by \n",
    "running that notebook from within the following cell:"
   ]
  },
  {
   "cell_type": "code",
   "execution_count": 9,
   "metadata": {},
   "outputs": [],
   "source": [
    "%run ./D-Score_Suite_v1.ipynb\n",
    "# This defines the same functions in this notebook's namespace."
   ]
  },
  {
   "cell_type": "markdown",
   "metadata": {},
   "source": [
    "The functions are now available here, to run against our sample data:"
   ]
  },
  {
   "cell_type": "code",
   "execution_count": 16,
   "metadata": {},
   "outputs": [
    {
     "data": {
      "text/plain": [
       "55.73589185136414"
      ]
     },
     "execution_count": 16,
     "metadata": {},
     "output_type": "execute_result"
    }
   ],
   "source": [
    "# Mean Square Error\n",
    "mse(ds['obs'], ds['nwm'])"
   ]
  },
  {
   "cell_type": "code",
   "execution_count": 17,
   "metadata": {},
   "outputs": [
    {
     "data": {
      "text/plain": [
       "winter    13.205368\n",
       "spring    11.135375\n",
       "summer    14.120221\n",
       "fall      17.274927\n",
       "dtype: float64"
      ]
     },
     "execution_count": 17,
     "metadata": {},
     "output_type": "execute_result"
    }
   ],
   "source": [
    "seasonal_mse(ds['obs'], ds['nwm'])"
   ]
  },
  {
   "cell_type": "markdown",
   "metadata": {},
   "source": [
    "## Create Composite Benchmark\n",
    "It is useful to combine several of these metrics into a single benchmark routine, which returns a pandas Series of the assembled metrics.\n",
    "\n",
    "This 'wrapper' composite benchmark also handles any transforms of the data before calling the metric functions. In this case, we will log transform the data. "
   ]
  },
  {
   "cell_type": "code",
   "execution_count": 18,
   "metadata": {},
   "outputs": [],
   "source": [
    "def compute_benchmark(df):\n",
    "    obs = np.log(df['obs'].clip(lower=0.01)) # clip to remove zeros and negative values\n",
    "    sim = np.log(df['nwm'].clip(lower=0.01))\n",
    "    \n",
    "    mse_ = pd.Series(\n",
    "        [ mse(obs, sim) ], \n",
    "        index=[\"mse\"], \n",
    "        dtype='float64'\n",
    "    )\n",
    "    return pd.concat([\n",
    "            mse_,\n",
    "            bias_distribution_sequence(obs, sim), \n",
    "            seasonal_mse(obs, sim),\n",
    "            quantile_mse(obs, sim)\n",
    "            ],\n",
    "        )"
   ]
  },
  {
   "cell_type": "code",
   "execution_count": 19,
   "metadata": {},
   "outputs": [
    {
     "data": {
      "text/plain": [
       "mse          0.874842\n",
       "e_bias       0.409683\n",
       "e_dist       0.224187\n",
       "e_seq        0.241010\n",
       "winter       0.057879\n",
       "spring       0.033822\n",
       "summer       0.396487\n",
       "fall         0.386654\n",
       "low          0.653889\n",
       "below_avg    0.127766\n",
       "above_avg    0.052214\n",
       "high         0.040973\n",
       "dtype: float64"
      ]
     },
     "execution_count": 19,
     "metadata": {},
     "output_type": "execute_result"
    }
   ],
   "source": [
    "compute_benchmark(ds)"
   ]
  },
  {
   "cell_type": "code",
   "execution_count": null,
   "metadata": {},
   "outputs": [],
   "source": []
  }
 ],
 "metadata": {
  "kernelspec": {
   "display_name": "Python 3.10.6 ('hytest')",
   "language": "python",
   "name": "python3"
  },
  "language_info": {
   "codemirror_mode": {
    "name": "ipython",
    "version": 3
   },
   "file_extension": ".py",
   "mimetype": "text/x-python",
   "name": "python",
   "nbconvert_exporter": "python",
   "pygments_lexer": "ipython3",
   "version": "3.10.6"
  },
  "vscode": {
   "interpreter": {
    "hash": "d7ebce313f85fb1ac8949e834c83f371584cb2422d845bf1570c1220fdedc716"
   }
  }
 },
 "nbformat": 4,
 "nbformat_minor": 2
}
