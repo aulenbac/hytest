{
 "cells": [
  {
   "cell_type": "markdown",
   "metadata": {},
   "source": [
    "# National Water Model Benchmark Usage\n",
    "**NOTE**: \n",
    "_This notebook adapted from originals by Timothy Hodson and Rich Signell. See that upstream work at:_\n",
    "* https://github.com/thodson-usgs/dscore\n",
    "* https://github.com/USGS-python/hytest-evaluation-workflows/\n",
    "\n",
    "This notebook will demonstrate how to call the specific functions defined in the [NWM Standard Suite v1](./NWM_StandardSuite_v1.ipynb)\n",
    "notebook, using a small demonstration dataset."
   ]
  },
  {
   "cell_type": "code",
   "execution_count": 1,
   "metadata": {},
   "outputs": [],
   "source": [
    "import pandas as pd\n",
    "import numpy as np"
   ]
  },
  {
   "cell_type": "markdown",
   "metadata": {},
   "source": [
    "## Sample Data"
   ]
  },
  {
   "cell_type": "code",
   "execution_count": 2,
   "metadata": {},
   "outputs": [
    {
     "name": "stdout",
     "output_type": "stream",
     "text": [
      "12145  Records\n"
     ]
    },
    {
     "data": {
      "text/html": [
       "<div>\n",
       "<style scoped>\n",
       "    .dataframe tbody tr th:only-of-type {\n",
       "        vertical-align: middle;\n",
       "    }\n",
       "\n",
       "    .dataframe tbody tr th {\n",
       "        vertical-align: top;\n",
       "    }\n",
       "\n",
       "    .dataframe thead th {\n",
       "        text-align: right;\n",
       "    }\n",
       "</style>\n",
       "<table border=\"1\" class=\"dataframe\">\n",
       "  <thead>\n",
       "    <tr style=\"text-align: right;\">\n",
       "      <th></th>\n",
       "      <th>site_no</th>\n",
       "      <th>obs</th>\n",
       "      <th>nwm</th>\n",
       "      <th>nhm</th>\n",
       "    </tr>\n",
       "    <tr>\n",
       "      <th>date</th>\n",
       "      <th></th>\n",
       "      <th></th>\n",
       "      <th></th>\n",
       "      <th></th>\n",
       "    </tr>\n",
       "  </thead>\n",
       "  <tbody>\n",
       "    <tr>\n",
       "      <th>1983-10-01</th>\n",
       "      <td>1104200</td>\n",
       "      <td>1.121347</td>\n",
       "      <td>6.175417</td>\n",
       "      <td>1.469472</td>\n",
       "    </tr>\n",
       "    <tr>\n",
       "      <th>1983-10-02</th>\n",
       "      <td>1104200</td>\n",
       "      <td>1.214793</td>\n",
       "      <td>6.250417</td>\n",
       "      <td>1.848861</td>\n",
       "    </tr>\n",
       "    <tr>\n",
       "      <th>1983-10-03</th>\n",
       "      <td>1104200</td>\n",
       "      <td>0.872159</td>\n",
       "      <td>6.215833</td>\n",
       "      <td>2.169456</td>\n",
       "    </tr>\n",
       "    <tr>\n",
       "      <th>1983-10-04</th>\n",
       "      <td>1104200</td>\n",
       "      <td>0.419089</td>\n",
       "      <td>6.105000</td>\n",
       "      <td>2.200083</td>\n",
       "    </tr>\n",
       "    <tr>\n",
       "      <th>1983-10-05</th>\n",
       "      <td>1104200</td>\n",
       "      <td>0.849505</td>\n",
       "      <td>5.952500</td>\n",
       "      <td>1.931588</td>\n",
       "    </tr>\n",
       "  </tbody>\n",
       "</table>\n",
       "</div>"
      ],
      "text/plain": [
       "            site_no       obs       nwm       nhm\n",
       "date                                             \n",
       "1983-10-01  1104200  1.121347  6.175417  1.469472\n",
       "1983-10-02  1104200  1.214793  6.250417  1.848861\n",
       "1983-10-03  1104200  0.872159  6.215833  2.169456\n",
       "1983-10-04  1104200  0.419089  6.105000  2.200083\n",
       "1983-10-05  1104200  0.849505  5.952500  1.931588"
      ]
     },
     "execution_count": 2,
     "metadata": {},
     "output_type": "execute_result"
    }
   ],
   "source": [
    "ds = pd.read_csv(r\"./NWM_Benchmark_SampleData.csv\", index_col='date').dropna()\n",
    "print(len(ds.index), \" Records\")\n",
    "ds.head()"
   ]
  },
  {
   "cell_type": "markdown",
   "metadata": {},
   "source": [
    "## Import Benchmark Functions\n",
    "The benchmark functions are defined in an [adjacent notebook](./NWM_StandardSuite_v1.ipynb).  They are imported here by \n",
    "running that notebook from within the following cell:"
   ]
  },
  {
   "cell_type": "code",
   "execution_count": 4,
   "metadata": {},
   "outputs": [],
   "source": [
    "%run ./NWM_StandardSuite_v1.ipynb\n",
    "# This brings functions defined in external notebook into this notebook's namespace."
   ]
  },
  {
   "cell_type": "markdown",
   "metadata": {},
   "source": [
    "The functions are now available here, to run against our sample data:"
   ]
  },
  {
   "cell_type": "code",
   "execution_count": 5,
   "metadata": {},
   "outputs": [
    {
     "data": {
      "text/plain": [
       "55.73589185136414"
      ]
     },
     "execution_count": 5,
     "metadata": {},
     "output_type": "execute_result"
    }
   ],
   "source": [
    "# Mean Square Error\n",
    "MSE(obs=ds['obs'], sim=ds['nwm'])"
   ]
  },
  {
   "cell_type": "code",
   "execution_count": 6,
   "metadata": {},
   "outputs": [
    {
     "data": {
      "text/plain": [
       "0.3286282290159983"
      ]
     },
     "execution_count": 6,
     "metadata": {},
     "output_type": "execute_result"
    }
   ],
   "source": [
    "# Kling-Gupta efficiency\n",
    "KGE(obs=ds['obs'], sim=ds['nwm'])"
   ]
  },
  {
   "cell_type": "markdown",
   "metadata": {},
   "source": [
    "## Create Composite Benchmark\n",
    "It is useful to combine several of these metrics into a single benchmark routine, which returns a \n",
    "pandas [Series](https://pandas.pydata.org/pandas-docs/stable/reference/api/pandas.Series.html) of \n",
    "the assembled metrics."
   ]
  },
  {
   "cell_type": "code",
   "execution_count": 7,
   "metadata": {},
   "outputs": [],
   "source": [
    "def compute_benchmark(ds):\n",
    "    obs = ds['obs']\n",
    "    sim = ds['nwm']\n",
    "    return pd.Series(\n",
    "        data={\n",
    "            'NSE': NSE(obs, sim),\n",
    "            'KGE': KGE(obs, sim),\n",
    "            'logNSE': logNSE(obs, sim),\n",
    "            'pbias': pbias(obs, sim),\n",
    "            'rSD': rSD(obs, sim),\n",
    "            'pearson': pearson_r(obs, sim),\n",
    "            'spearman': spearman_r(obs, sim), \n",
    "            'pBiasFMS': pBiasFMS(obs, sim),\n",
    "            'pBiasFLV': pBiasFLV(obs, sim),\n",
    "            'pBiasFHV': pBiasFHV(obs, sim)\n",
    "        },\n",
    "        name=ds['site_no'][0], # special case -- 'site_no' column\n",
    "        dtype='float64'\n",
    "    )"
   ]
  },
  {
   "cell_type": "code",
   "execution_count": 8,
   "metadata": {},
   "outputs": [
    {
     "data": {
      "text/plain": [
       "NSE          0.002319\n",
       "KGE          0.328628\n",
       "logNSE       0.184820\n",
       "pbias       52.561009\n",
       "rSD          1.375604\n",
       "pearson      0.817255\n",
       "spearman     0.804573\n",
       "pBiasFMS   -34.136547\n",
       "pBiasFLV    81.492827\n",
       "pBiasFHV    32.058168\n",
       "Name: 1104200, dtype: float64"
      ]
     },
     "execution_count": 8,
     "metadata": {},
     "output_type": "execute_result"
    }
   ],
   "source": [
    "compute_benchmark(ds)"
   ]
  }
 ],
 "metadata": {
  "kernelspec": {
   "display_name": "Python 3.10.6 ('hytest')",
   "language": "python",
   "name": "python3"
  },
  "language_info": {
   "codemirror_mode": {
    "name": "ipython",
    "version": 3
   },
   "file_extension": ".py",
   "mimetype": "text/x-python",
   "name": "python",
   "nbconvert_exporter": "python",
   "pygments_lexer": "ipython3",
   "version": "3.10.6"
  },
  "vscode": {
   "interpreter": {
    "hash": "d7ebce313f85fb1ac8949e834c83f371584cb2422d845bf1570c1220fdedc716"
   }
  }
 },
 "nbformat": 4,
 "nbformat_minor": 2
}
