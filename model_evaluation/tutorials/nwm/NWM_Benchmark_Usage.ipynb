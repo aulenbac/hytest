{
 "cells": [
  {
   "cell_type": "markdown",
   "metadata": {},
   "source": [
    "# National Water Model Benchmark Usage\n",
    "**NOTE**: \n",
    "_This notebook adapted from originals by Timothy Hodson and Rich Signell. See that upstream work at:_\n",
    "* https://github.com/thodson-usgs/dscore\n",
    "* https://github.com/USGS-python/hytest-evaluation-workflows/\n",
    "\n",
    "This notebook will demonstrate how to call the specific functions defined in the [NWM Standard Suite v1](./NWM_StandardSuite_v1.ipynb)\n",
    "notebook, using a small demonstration dataset."
   ]
  },
  {
   "cell_type": "code",
   "execution_count": null,
   "metadata": {},
   "outputs": [],
   "source": [
    "import pandas as pd\n",
    "import numpy as np"
   ]
  },
  {
   "cell_type": "markdown",
   "metadata": {},
   "source": [
    "## Sample Data"
   ]
  },
  {
   "cell_type": "code",
   "execution_count": null,
   "metadata": {},
   "outputs": [],
   "source": [
    "ds = pd.read_csv(r\"./NWM_Benchmark_SampleData.csv\", index_col='date').dropna()\n",
    "print(len(ds.index), \" Records\")"
   ]
  },
  {
   "cell_type": "code",
   "execution_count": null,
   "metadata": {},
   "outputs": [],
   "source": [
    "ds.head()"
   ]
  },
  {
   "cell_type": "markdown",
   "metadata": {},
   "source": [
    "## Import Benchmark Functions\n",
    "The benchmark functions are defined in an [adjacent notebook](./NWM_StandardSuite_v1.ipynb).  They are imported here by \n",
    "running that notebook from within the following cell:"
   ]
  },
  {
   "cell_type": "code",
   "execution_count": null,
   "metadata": {},
   "outputs": [],
   "source": [
    "%run ./NWM_StandardSuite_v1.ipynb\n",
    "# This defines the same functions in this notebook's namespace."
   ]
  },
  {
   "cell_type": "markdown",
   "metadata": {},
   "source": [
    "The functions are now available here, to run against our sample data:"
   ]
  },
  {
   "cell_type": "code",
   "execution_count": null,
   "metadata": {},
   "outputs": [],
   "source": [
    "# Mean Square Error\n",
    "MSE(obs=ds['obs'], sim=ds['nwm'])"
   ]
  },
  {
   "cell_type": "code",
   "execution_count": null,
   "metadata": {},
   "outputs": [],
   "source": [
    "# Kling-Gupta efficiency\n",
    "KGE(obs=ds['obs'], sim=ds['nwm'])"
   ]
  },
  {
   "cell_type": "markdown",
   "metadata": {},
   "source": [
    "## Create Composite Benchmark\n",
    "It is useful to combine several of these metrics into a single benchmark routine, which returns a pandas Series of the assembled metrics."
   ]
  },
  {
   "cell_type": "code",
   "execution_count": null,
   "metadata": {},
   "outputs": [],
   "source": [
    "def compute_benchmark(ds):\n",
    "    obs = ds['obs']\n",
    "    sim = ds['nwm']\n",
    "    return pd.Series(\n",
    "        data={\n",
    "            'NSE': NSE(obs, sim),\n",
    "            'KGE': KGE(obs, sim),\n",
    "            'logNSE': logNSE(obs, sim),\n",
    "            'pbias': pbias(obs, sim),\n",
    "            'rSD': rSD(obs, sim),\n",
    "            'pearson': pearson_r(obs, sim),\n",
    "            'spearman': spearman_r(obs, sim), \n",
    "            'pBiasFMS': pBiasFMS(obs, sim),\n",
    "            'pBiasFLV': pBiasFLV(obs, sim),\n",
    "            'pBiasFHV': pBiasFHV(obs, sim)\n",
    "        },\n",
    "        name=ds['site_no'][0], # special case -- 'site_no' column\n",
    "        dtype='float64'\n",
    "    )"
   ]
  },
  {
   "cell_type": "code",
   "execution_count": null,
   "metadata": {},
   "outputs": [],
   "source": [
    "compute_benchmark(ds)"
   ]
  }
 ],
 "metadata": {
  "kernelspec": {
   "display_name": "Python 3.10.5 ('hytest')",
   "language": "python",
   "name": "python3"
  },
  "language_info": {
   "codemirror_mode": {
    "name": "ipython",
    "version": 3
   },
   "file_extension": ".py",
   "mimetype": "text/x-python",
   "name": "python",
   "nbconvert_exporter": "python",
   "pygments_lexer": "ipython3",
   "version": "3.10.6"
  },
  "vscode": {
   "interpreter": {
    "hash": "4100cc85ffefb381c538d28dd18cb927e5a99f05bbed6aaad5313d7bb1c2079e"
   }
  }
 },
 "nbformat": 4,
 "nbformat_minor": 2
}
